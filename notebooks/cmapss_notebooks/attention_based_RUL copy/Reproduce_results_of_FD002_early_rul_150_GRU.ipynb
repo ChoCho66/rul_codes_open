{
 "cells": [
  {
   "cell_type": "markdown",
   "id": "524f0aea",
   "metadata": {},
   "source": [
    "## Reproducing results of FD004\n",
    "\n",
    "In this notebook, we will reproduce results of [this notebook](https://github.com/biswajitsahoo1111/rul_codes_open/blob/master/notebooks/cmapss_notebooks/attention_based_RUL/CMAPSS_FD002_additive_attention_early_rul_150_GRU_based_final.ipynb).\n",
    "\n",
    "To reproduce our results, we will follow these steps:\n",
    "\n",
    "* Preprocess test data\n",
    "* Create model\n",
    "* Load model weights, and\n",
    "* Make prediction\n",
    "\n",
    "To preprocess test data, we need scaling parameters of training data. Ideally, we can save scaling parameter of training data and use it to scale test data. However, in our case, we have unnecessarily processed training data first before processing test data. This is not a good practice for large datasets. It can easily be avoided."
   ]
  },
  {
   "cell_type": "code",
   "execution_count": 1,
   "id": "0ea0cdff",
   "metadata": {},
   "outputs": [
    {
     "name": "stdout",
     "output_type": "stream",
     "text": [
      "Tensorflow version:  2.4.1\n",
      "Numpy version:  1.19.2\n",
      "Pandas version:  1.2.4\n",
      "Scikit-learn version:  0.24.1\n"
     ]
    }
   ],
   "source": [
    "import tensorflow as tf\n",
    "import numpy as np\n",
    "import pandas as pd\n",
    "import sklearn\n",
    "from sklearn.preprocessing import StandardScaler, MinMaxScaler\n",
    "from sklearn.metrics import mean_squared_error, mean_absolute_error\n",
    "import matplotlib.pyplot as plt\n",
    "\n",
    "print(\"Tensorflow version: \", tf.__version__)\n",
    "print(\"Numpy version: \", np.__version__)\n",
    "print(\"Pandas version: \", pd.__version__)\n",
    "print(\"Scikit-learn version: \", sklearn.__version__)"
   ]
  },
  {
   "cell_type": "markdown",
   "id": "e6495f2a",
   "metadata": {},
   "source": [
    "## Prepare test data\n",
    "\n",
    "We will again use the same functions to preprocess test data. As mentioned above, we will be unnecessarily processing training data."
   ]
  },
  {
   "cell_type": "code",
   "execution_count": 2,
   "id": "e255b413",
   "metadata": {},
   "outputs": [],
   "source": [
    "def process_targets(data_length, early_rul = None):\n",
    "    \"\"\" \n",
    "    Takes datalength and earlyrul as input and \n",
    "    creates target rul.\n",
    "    \"\"\"\n",
    "    if early_rul == None:\n",
    "        return np.arange(data_length-1, -1, -1)\n",
    "    else:\n",
    "        early_rul_duration = data_length - early_rul\n",
    "        if early_rul_duration <= 0:\n",
    "            return np.arange(data_length-1, -1, -1)\n",
    "        else:\n",
    "            return np.append(early_rul*np.ones(shape = (early_rul_duration,)), np.arange(early_rul-1, -1, -1))"
   ]
  },
  {
   "cell_type": "code",
   "execution_count": 3,
   "id": "e0ca46df",
   "metadata": {},
   "outputs": [],
   "source": [
    "def process_input_data_with_targets(input_data, target_data = None, window_length = 1, shift = 1):\n",
    "    \"\"\"Depending on values of window_length and shift, this function generates batchs of data and targets \n",
    "    from input_data and target_data.\n",
    "    \n",
    "    Number of batches = np.floor((len(input_data) - window_length)/shift) + 1\n",
    "    \n",
    "    **We don't check input dimensions uisng exception handling. So readers should be careful while using these\n",
    "    functions. If input data are not of desired dimension, either error occurs or something undesirable is \n",
    "    produced as output.**\n",
    "    \n",
    "    Arguments:\n",
    "        input_data: input data to function (Must be 2 dimensional)\n",
    "        target_data: input rul values (Must be 1D array)s\n",
    "        window_length: window length of data\n",
    "        shift: Distance by which the window moves for next batch. This is closely related to overlap\n",
    "               between data. For example, if window length is 30 and shift is 1, there is an overlap of \n",
    "               29 data points between two consecutive batches.\n",
    "        \n",
    "    \"\"\"\n",
    "    num_batches = np.int(np.floor((len(input_data) - window_length)/shift)) + 1\n",
    "    num_features = input_data.shape[1]\n",
    "    output_data = np.repeat(np.nan, repeats = num_batches * window_length * num_features).reshape(num_batches, window_length,\n",
    "                                                                                                  num_features)\n",
    "    dec_input_data = np.repeat(np.nan, repeats = num_batches * num_features).reshape(num_batches, 1, num_features)\n",
    "    if target_data is None:\n",
    "        for batch in range(num_batches):\n",
    "            output_data[batch,:,:] = input_data[(0+shift*batch):(0+shift*batch+window_length),:]\n",
    "            dec_input_data[batch, :, :] = output_data[batch, :, :][-1]\n",
    "        return output_data, dec_input_data\n",
    "    else:\n",
    "        output_targets = np.repeat(np.nan, repeats = num_batches)\n",
    "        for batch in range(num_batches):\n",
    "            output_data[batch,:,:] = input_data[(0+shift*batch):(0+shift*batch+window_length),:]\n",
    "            output_targets[batch] = target_data[(shift*batch + (window_length-1))]\n",
    "        return output_data, output_targets"
   ]
  },
  {
   "cell_type": "code",
   "execution_count": 4,
   "id": "ab590907",
   "metadata": {},
   "outputs": [],
   "source": [
    "def process_test_data(test_data_for_an_engine, window_length, shift, num_test_windows = 1):\n",
    "    \"\"\" This function takes test data for an engine as first input. The next two inputs\n",
    "    window_length and shift are same as other functins. \n",
    "    \n",
    "    Finally it takes num_test_windows as the last input. num_test_windows sets how many examplles we\n",
    "    want from test data (from last). By default it extracts only the last example.\n",
    "    \n",
    "    The function return last examples and number of last examples (a scaler) as output. \n",
    "    We need the second output later. If we are extracting more than 1 last examples, we have to \n",
    "    average their prediction results. The second scaler halps us do just that.\n",
    "    \"\"\"\n",
    "    if len(test_data_for_an_engine) < window_length:\n",
    "        test_decoder_for_an_engine = test_data_for_an_engine[-1][np.newaxis, np.newaxis, :]\n",
    "        mask_length = window_length - len(test_data_for_an_engine)\n",
    "        batched_test_data_for_an_engine = np.concatenate((test_data_for_an_engine,\n",
    "                                                          np.zeros((mask_length, test_data_for_an_engine.shape[1]))))\n",
    "        mask = np.concatenate((np.repeat([True], len(test_data_for_an_engine)), np.repeat([False], mask_length)))\n",
    "        num_test_windows = 1    # This has to be 1 as number of data points is less than window length\n",
    "        return batched_test_data_for_an_engine[np.newaxis, :], num_test_windows, mask[np.newaxis, :], test_decoder_for_an_engine                                                \n",
    "    \n",
    "    else:\n",
    "        max_num_test_batches = np.int(np.floor((len(test_data_for_an_engine) - window_length)/shift)) + 1\n",
    "        \n",
    "        if max_num_test_batches < num_test_windows:\n",
    "            required_len = (max_num_test_batches -1)* shift + window_length\n",
    "            batched_test_data_for_an_engine, test_decoder_for_an_engine = process_input_data_with_targets(test_data_for_an_engine[-required_len:, :],\n",
    "                                                                              target_data = None,\n",
    "                                                                              window_length = window_length, shift = shift)\n",
    "            m, n = batched_test_data_for_an_engine.shape[0], batched_test_data_for_an_engine.shape[1]\n",
    "            mask = np.repeat([True], m * n).reshape(m, n)\n",
    "            return batched_test_data_for_an_engine, max_num_test_batches, mask, test_decoder_for_an_engine\n",
    "        \n",
    "        else:\n",
    "            required_len = (num_test_windows - 1) * shift + window_length\n",
    "            batched_test_data_for_an_engine, test_decoder_for_an_engine = process_input_data_with_targets(test_data_for_an_engine[-required_len:, :],\n",
    "                                                                              target_data = None,\n",
    "                                                                              window_length = window_length, shift = shift)\n",
    "            m, n = batched_test_data_for_an_engine.shape[0], batched_test_data_for_an_engine.shape[1]\n",
    "            mask = np.repeat([True], m * n).reshape(m, n)\n",
    "            return batched_test_data_for_an_engine, num_test_windows, mask,  test_decoder_for_an_engine"
   ]
  },
  {
   "cell_type": "code",
   "execution_count": 5,
   "id": "f4cf3ae6",
   "metadata": {},
   "outputs": [
    {
     "name": "stdout",
     "output_type": "stream",
     "text": [
      "Processed trianing data shape:  (46219, 30, 21)\n",
      "Processed training ruls shape:  (46219,)\n",
      "Processed test data shape:  (1267, 30, 21)\n",
      "Test mask shape:  (1267, 30)\n",
      "Test decode input shape:  (1267, 1, 21)\n",
      "True RUL shape:  (259,)\n"
     ]
    }
   ],
   "source": [
    "train_data = pd.read_csv(\"/home/biswajit/data/cmapss_data/train_FD002.txt\", sep= \"\\s+\", header = None)\n",
    "test_data = pd.read_csv(\"/home/biswajit/data/cmapss_data/test_FD002.txt\", sep = \"\\s+\", header = None)\n",
    "true_rul = pd.read_csv(\"/home/biswajit/data/cmapss_data/RUL_FD002.txt\", sep = '\\s+', header = None)\n",
    "\n",
    "window_length = 30\n",
    "shift = 1\n",
    "early_rul = 150         \n",
    "processed_train_data = []\n",
    "processed_train_targets = []\n",
    "\n",
    "# How many test windows to take for each engine. If set to 1 (this is the default), only last window of test data for \n",
    "# each engine is taken. If set to a different number, that many windows from last are taken. \n",
    "# Final output is the average output of all windows.\n",
    "num_test_windows = 5     \n",
    "processed_test_data = []\n",
    "num_test_windows_list = []\n",
    "\n",
    "# train_mask = []\n",
    "test_mask = []\n",
    "test_decoder_input = []\n",
    "\n",
    "columns_to_be_dropped = [0,1,2,3,4]\n",
    "\n",
    "train_data_first_column = train_data[0]\n",
    "test_data_first_column = test_data[0]\n",
    "\n",
    "# Scale data for all engines\n",
    "# scaler = MinMaxScaler(feature_range = (-1, 1))\n",
    "scaler = StandardScaler()\n",
    "train_data = scaler.fit_transform(train_data.drop(columns = columns_to_be_dropped))\n",
    "test_data = scaler.transform(test_data.drop(columns = columns_to_be_dropped))\n",
    "\n",
    "train_data = pd.DataFrame(data = np.c_[train_data_first_column, train_data])\n",
    "test_data = pd.DataFrame(data = np.c_[test_data_first_column, test_data])\n",
    "\n",
    "num_train_machines = len(train_data[0].unique())\n",
    "num_test_machines = len(test_data[0].unique())\n",
    "\n",
    "# Process training and test data sepeartely as number of engines in training and test set may be different.\n",
    "# As we are doing scaling for full dataset, we are not bothered by different number of engines in training and test set.\n",
    "\n",
    "# Process trianing data\n",
    "for i in np.arange(1, num_train_machines + 1):\n",
    "    temp_train_data = train_data[train_data[0] == i].drop(columns = [0]).values\n",
    "    \n",
    "    # Verify if data of given window length can be extracted from training data\n",
    "    if (len(temp_train_data) < window_length):\n",
    "        print(\"Train engine {} doesn't have enough data for window_length of {}\".format(i, window_length))\n",
    "        raise AssertionError(\"Window length is larger than number of data points for some engines. \"\n",
    "                             \"Try decreasing window length.\")\n",
    "        \n",
    "    temp_train_targets = process_targets(data_length = temp_train_data.shape[0], early_rul = early_rul)\n",
    "    data_for_a_machine, targets_for_a_machine = process_input_data_with_targets(temp_train_data, temp_train_targets, \n",
    "                                                                                window_length = window_length, shift = shift)\n",
    "    \n",
    "    processed_train_data.append(data_for_a_machine)\n",
    "    processed_train_targets.append(targets_for_a_machine)\n",
    "\n",
    "processed_train_data = np.concatenate(processed_train_data)\n",
    "processed_train_targets = np.concatenate(processed_train_targets)\n",
    "\n",
    "# Process test data\n",
    "for i in np.arange(1, num_test_machines + 1):\n",
    "    temp_test_data = test_data[test_data[0] == i].drop(columns = [0]).values\n",
    "    \n",
    "\n",
    "    # Prepare test data\n",
    "    test_data_for_an_engine, num_windows, test_mask_for_an_engine, test_decoder_input_for_an_engine = process_test_data(temp_test_data,\n",
    "                                                                                                          window_length = window_length,\n",
    "                                                                                                          shift = shift,\n",
    "                                                                                                          num_test_windows = num_test_windows)\n",
    "    \n",
    "    processed_test_data.append(test_data_for_an_engine)\n",
    "    num_test_windows_list.append(num_windows)\n",
    "    test_mask.append(test_mask_for_an_engine)\n",
    "    test_decoder_input.append(test_decoder_input_for_an_engine)\n",
    "\n",
    "processed_test_data = np.concatenate(processed_test_data)\n",
    "true_rul = true_rul[0].values\n",
    "test_mask = np.concatenate(test_mask)\n",
    "test_decoder_input = np.concatenate(test_decoder_input)\n",
    "\n",
    "# Shuffle training data\n",
    "index = np.random.permutation(len(processed_train_targets))\n",
    "processed_train_data, processed_train_targets = processed_train_data[index], processed_train_targets[index]\n",
    "\n",
    "print(\"Processed trianing data shape: \", processed_train_data.shape)\n",
    "print(\"Processed training ruls shape: \", processed_train_targets.shape)\n",
    "print(\"Processed test data shape: \", processed_test_data.shape)\n",
    "print(\"Test mask shape: \", test_mask.shape)\n",
    "print(\"Test decode input shape: \", test_decoder_input.shape)\n",
    "print(\"True RUL shape: \", true_rul.shape)"
   ]
  },
  {
   "cell_type": "code",
   "execution_count": 6,
   "id": "81613495",
   "metadata": {},
   "outputs": [],
   "source": [
    "target_scaler = MinMaxScaler(feature_range = (0, 1))\n",
    "processed_train_targets = target_scaler.fit_transform(processed_train_targets.reshape(-1, 1)).reshape(-1)"
   ]
  },
  {
   "cell_type": "code",
   "execution_count": 7,
   "id": "171569e3",
   "metadata": {},
   "outputs": [],
   "source": [
    "test_dataset = tf.data.Dataset.from_tensor_slices((processed_test_data, test_mask, test_decoder_input)).batch(128).prefetch(tf.data.AUTOTUNE)"
   ]
  },
  {
   "cell_type": "markdown",
   "id": "fc915acb",
   "metadata": {},
   "source": [
    "## Build model"
   ]
  },
  {
   "cell_type": "code",
   "execution_count": 8,
   "id": "ed94ddc9",
   "metadata": {},
   "outputs": [],
   "source": [
    "class Seq2SeqEncoder(tf.keras.layers.Layer):\n",
    "    \"\"\"The RNN encoder for sequence to sequence learning.\"\"\"\n",
    "    def __init__(self, num_hiddens, num_layers, dropout = 0, **kwargs): \n",
    "        super().__init__(**kwargs)\n",
    "        self.rnn = tf.keras.layers.RNN(tf.keras.layers.StackedRNNCells([tf.keras.layers.GRUCell(num_hiddens, dropout = dropout)\n",
    "                                                                        for _ in range(num_layers)]),\n",
    "                                       return_sequences = True, return_state = True)\n",
    "    \n",
    "    def call(self, X, *args, **kwargs):\n",
    "        # The input `X` shape: (`batch_size`, `num_steps`, `num_features`)\n",
    "        output = self.rnn(X, *args, **kwargs) # Shape of output: (batch_size, num_steps, num_hiddens)\n",
    "        state = output[1:]                        # Shape of state: (batch_size, num_hiddens)\n",
    "        return (output[0], state)"
   ]
  },
  {
   "cell_type": "code",
   "execution_count": 9,
   "id": "f5e5a6d5",
   "metadata": {},
   "outputs": [],
   "source": [
    "class AdditiveAttentionForSeq(tf.keras.layers.Layer):\n",
    "    def __init__(self, attention_size, **kwargs):\n",
    "        super().__init__(**kwargs)\n",
    "        self.attention = tf.keras.layers.Dense(attention_size)\n",
    "        \n",
    "    def call(self, state, encoder_outputs):\n",
    "        # Shape of encocder_outputs: (batch_size, num_steps, hidden_dims)\n",
    "        # Shape of state: (batch_size, hidden_dims)\n",
    "        seq_len = encoder_outputs.shape[1]\n",
    "        averaged_state = tf.reduce_mean(tf.stack(state, axis = 1), axis = 1)\n",
    "        state_rep = tf.repeat(tf.expand_dims(averaged_state, axis = 1), repeats = seq_len, axis = 1)\n",
    "        concat = tf.concat((state_rep, encoder_outputs), axis = -1)\n",
    "        scores = tf.nn.tanh(self.attention(concat))  # Shape of score: (batch_size, num_steps, attention_size)\n",
    "        # Shape of attention_weights: (batch_size, num_steps)\n",
    "        attention_weights = tf.nn.softmax(tf.reduce_sum(scores, axis = -1), axis = -1) \n",
    "        return tf.matmul(tf.expand_dims(attention_weights, axis = 1), encoder_outputs)"
   ]
  },
  {
   "cell_type": "code",
   "execution_count": 10,
   "id": "c1336f87",
   "metadata": {},
   "outputs": [],
   "source": [
    "class Seq2SeqAttentionDecoder(tf.keras.layers.Layer):\n",
    "    def __init__(self, num_hiddens, num_layers, dropout = 0, **kwargs):\n",
    "        super().__init__(**kwargs)\n",
    "        self.rnn = tf.keras.layers.RNN(tf.keras.layers.StackedRNNCells([tf.keras.layers.GRUCell(num_hiddens, dropout = dropout)\n",
    "                                                                        for _ in range(num_layers)]),\n",
    "                                       return_sequences = True, return_state = True)\n",
    "        self.attention = AdditiveAttentionForSeq(attention_size = 32)\n",
    "        self.dense = tf.keras.layers.Dense(1)\n",
    "        \n",
    "    def init_state(self, enc_outputs, *args):\n",
    "        outputs, hidden_state = enc_outputs\n",
    "        return (outputs, hidden_state)\n",
    "    \n",
    "    \n",
    "    def call(self, dec_input, state, **kwargs):\n",
    "        # Shape of dec_input: (batch_size, 1, num_features)\n",
    "        # Shape of `enc_outputs`: (`batch_size`, `num_steps`, `num_hiddens`).\n",
    "        # Shape of `hidden_state[0]`: (`num_layers`, `batch_size`, `num_hiddens`)\n",
    "        enc_outputs, enc_hidden_state = state\n",
    "        # shape of context: (batch_size, 1, hidden_dims)\n",
    "        context = self.attention(enc_hidden_state, enc_outputs)\n",
    "        rnn_input = tf.concat((dec_input, context), axis = -1) # Shape of rnn_input: (batch_size, 1, (num_features + hidden_dims))\n",
    "        rnn_output = self.rnn(rnn_input, initial_state = enc_hidden_state, **kwargs)\n",
    "        # Shape of rnn_output[0]: (batch_size, 1, num_hiddens)\n",
    "        # Shape of rnn_output[1]: (num_layers, batch_size, num_hiddens)\n",
    "        output = self.dense(tf.squeeze(rnn_output[0], axis = 1)) # Shape of output: (batch_sizef, 1)\n",
    "        return output, rnn_output[1:]"
   ]
  },
  {
   "cell_type": "code",
   "execution_count": 11,
   "id": "4586a795",
   "metadata": {},
   "outputs": [],
   "source": [
    "class EncoderDecoder(tf.keras.Model):\n",
    "    \"\"\"The base class for the encoder-decoder architecture.\"\"\"\n",
    "    def __init__(self, encoder, decoder, **kwargs):\n",
    "        super(EncoderDecoder, self).__init__(**kwargs)\n",
    "        self.encoder = encoder\n",
    "        self.decoder = decoder\n",
    "\n",
    "    def call(self, enc_X, dec_X, *args, **kwargs):\n",
    "        enc_outputs = self.encoder(enc_X, *args, **kwargs)\n",
    "        dec_state = self.decoder.init_state(enc_outputs, *args)\n",
    "        return self.decoder(dec_X, dec_state, **kwargs)"
   ]
  },
  {
   "cell_type": "code",
   "execution_count": 12,
   "id": "b29f4d19",
   "metadata": {},
   "outputs": [],
   "source": [
    "num_hiddens = 64\n",
    "num_layers = 2\n",
    "encoder = Seq2SeqEncoder(num_hiddens = num_hiddens, num_layers = num_layers)\n",
    "decoder = Seq2SeqAttentionDecoder(num_hiddens = num_hiddens, num_layers = num_layers)"
   ]
  },
  {
   "cell_type": "markdown",
   "id": "615be4d6",
   "metadata": {},
   "source": [
    "## Create full model"
   ]
  },
  {
   "cell_type": "code",
   "execution_count": 13,
   "id": "ccabe9ae",
   "metadata": {},
   "outputs": [],
   "source": [
    "net = EncoderDecoder(encoder, decoder)"
   ]
  },
  {
   "cell_type": "markdown",
   "id": "247574a3",
   "metadata": {},
   "source": [
    "## Load saved weights"
   ]
  },
  {
   "cell_type": "code",
   "execution_count": 14,
   "id": "f2c7ca0f",
   "metadata": {},
   "outputs": [
    {
     "data": {
      "text/plain": [
       "<tensorflow.python.training.tracking.util.CheckpointLoadStatus at 0x7f5d46fb8880>"
      ]
     },
     "execution_count": 14,
     "metadata": {},
     "output_type": "execute_result"
    }
   ],
   "source": [
    "net.load_weights(\"./saved_weights/FD002/FD002_early_rul_150_GRU_rmse_27_99\")"
   ]
  },
  {
   "cell_type": "markdown",
   "id": "4fa649eb",
   "metadata": {},
   "source": [
    "## Make predictions"
   ]
  },
  {
   "cell_type": "code",
   "execution_count": 15,
   "id": "cd3e5fe7",
   "metadata": {},
   "outputs": [],
   "source": [
    "def predict_seq2seq(net, test_data_iter):\n",
    "    final_preds = []\n",
    "    for test_data_batch, test_mask_batch, test_dec_input in test_data_iter:\n",
    "        enc_outputs = net.encoder(test_data_batch, mask = test_mask_batch, training = False)\n",
    "        dec_state = net.decoder.init_state(enc_outputs)\n",
    "        Y_pred, _ = net.decoder(test_dec_input, dec_state, training = False)\n",
    "        final_preds.append(Y_pred.numpy())\n",
    "    return tf.squeeze(tf.concat(final_preds, axis = 0).numpy()).numpy()"
   ]
  },
  {
   "cell_type": "code",
   "execution_count": 16,
   "id": "9813f64f",
   "metadata": {},
   "outputs": [],
   "source": [
    "rul_pred_unscaled = predict_seq2seq(net, test_dataset)"
   ]
  },
  {
   "cell_type": "code",
   "execution_count": 17,
   "id": "730d4155",
   "metadata": {},
   "outputs": [],
   "source": [
    "rul_pred = target_scaler.inverse_transform(rul_pred_unscaled.reshape(-1, 1)).reshape(-1)"
   ]
  },
  {
   "cell_type": "markdown",
   "id": "f4a112ee",
   "metadata": {},
   "source": [
    "## RMSE and MAE using last 5 examples"
   ]
  },
  {
   "cell_type": "code",
   "execution_count": 18,
   "id": "c87e44d6",
   "metadata": {},
   "outputs": [
    {
     "name": "stdout",
     "output_type": "stream",
     "text": [
      "RMSE:  27.597830367663676\n",
      "MAE:  18.82575701171367\n"
     ]
    }
   ],
   "source": [
    "preds_for_each_engine = np.split(rul_pred, np.cumsum(num_test_windows_list)[:-1])\n",
    "mean_pred_for_each_engine = [np.average(ruls_for_each_engine, weights = np.repeat(1/num_windows, num_windows)) \n",
    "                             for ruls_for_each_engine, num_windows in zip(preds_for_each_engine, num_test_windows_list)]\n",
    "RMSE = np.sqrt(mean_squared_error(true_rul, mean_pred_for_each_engine))\n",
    "MAE = mean_absolute_error(true_rul, mean_pred_for_each_engine)\n",
    "print(\"RMSE: \", RMSE)\n",
    "print(\"MAE: \", MAE)"
   ]
  },
  {
   "cell_type": "markdown",
   "id": "231a2a18",
   "metadata": {},
   "source": [
    "## RMSE and MAE using only last example"
   ]
  },
  {
   "cell_type": "code",
   "execution_count": 19,
   "id": "e7b3a81d",
   "metadata": {},
   "outputs": [
    {
     "name": "stdout",
     "output_type": "stream",
     "text": [
      "RMSE (Taking only last examples):  27.986370878136444\n",
      "MAE (Taking only last example):  19.18382574071295\n"
     ]
    }
   ],
   "source": [
    "indices_of_last_examples = np.cumsum(num_test_windows_list) - 1\n",
    "preds_for_last_example = np.concatenate(preds_for_each_engine)[indices_of_last_examples]\n",
    "\n",
    "RMSE_new = np.sqrt(mean_squared_error(true_rul, preds_for_last_example))\n",
    "MAE_new = mean_absolute_error(true_rul, preds_for_last_example)\n",
    "print(\"RMSE (Taking only last examples): \", RMSE_new)\n",
    "print(\"MAE (Taking only last example): \", MAE_new)"
   ]
  },
  {
   "cell_type": "markdown",
   "id": "90215674",
   "metadata": {},
   "source": [
    "## S score"
   ]
  },
  {
   "cell_type": "code",
   "execution_count": 20,
   "id": "2bf9faf2",
   "metadata": {},
   "outputs": [],
   "source": [
    "def compute_s_score(rul_true, rul_pred):\n",
    "    \"\"\"\n",
    "    Both rul_true and rul_pred should be 1D numpy arrays.\n",
    "    \"\"\"\n",
    "    diff = rul_pred - rul_true\n",
    "    return np.sum(np.where(diff < 0, np.exp(-diff/13)-1, np.exp(diff/10)-1))"
   ]
  },
  {
   "cell_type": "code",
   "execution_count": 21,
   "id": "ee951739",
   "metadata": {},
   "outputs": [
    {
     "name": "stdout",
     "output_type": "stream",
     "text": [
      "S-score:  19051.875770345458\n"
     ]
    }
   ],
   "source": [
    "s_score = compute_s_score(true_rul, preds_for_last_example)\n",
    "print(\"S-score: \", s_score)"
   ]
  },
  {
   "cell_type": "code",
   "execution_count": 22,
   "id": "edd58a05",
   "metadata": {},
   "outputs": [
    {
     "data": {
      "image/png": "[encoded data removed]",
      "text/plain": [
       "<Figure size 432x288 with 1 Axes>"
      ]
     },
     "metadata": {
      "needs_background": "light"
     },
     "output_type": "display_data"
    }
   ],
   "source": [
    "plt.plot(true_rul, label = \"True RUL\", color = \"red\")\n",
    "plt.plot(preds_for_last_example, label = \"Pred RUL\", color = \"blue\")\n",
    "plt.legend()\n",
    "plt.show()"
   ]
  }
 ],
 "metadata": {
  "kernelspec": {
   "display_name": "tf_241_gpu",
   "language": "python",
   "name": "tf_241_gpu"
  },
  "language_info": {
   "codemirror_mode": {
    "name": "ipython",
    "version": 3
   },
   "file_extension": ".py",
   "mimetype": "text/x-python",
   "name": "python",
   "nbconvert_exporter": "python",
   "pygments_lexer": "ipython3",
   "version": "3.8.8"
  }
 },
 "nbformat": 4,
 "nbformat_minor": 5
}
