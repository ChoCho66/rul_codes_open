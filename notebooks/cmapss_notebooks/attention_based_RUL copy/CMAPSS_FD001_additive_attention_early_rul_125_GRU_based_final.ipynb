{
 "cells": [
  {
   "cell_type": "markdown",
   "id": "2137427f",
   "metadata": {},
   "source": [
    "# Attention based RUL prediction (for FD001)\n",
    "\n",
    "In this notebook, we will use attention along with gated recurrent unit (GRU) to make RUL prediction. We will only show the implementation of attention without going too much into the theory and motivation of it. Readers interested to learn more about attention are directed to [Chapter 10](https://d2l.ai/chapter_attention-mechanisms/index.html) of [Dive into Deep Learning](https://d2l.ai/index.html) book. We will use the `Tensorflow` implementation of `Attention Mechanisms` chapter of that book that was in fact written by yours truly (some shameless self-promotion).\n",
    "\n",
    "This notebook is going to be relatively long. So we have divided it into different sections. Readers can read sections selectively depending on their choice.\n",
    "\n",
    "* A whirlwind tour of attention\n",
    "* Data preparation\n",
    "* Model creation\n",
    "    * Encoder\n",
    "    * Attention mechanism\n",
    "    * Decoder (with attention)\n",
    "* Model training\n",
    "* Making predictions\n",
    "* Evaluating RMSE and S-score\n",
    "* How to reporduce our result?"
   ]
  },
  {
   "cell_type": "markdown",
   "id": "ca72df00",
   "metadata": {},
   "source": [
    "## A whirlwind tour of attention:\n",
    "\n",
    "![Attention based prediction](attention_mechanism.png)"
   ]
  },
  {
   "cell_type": "markdown",
   "id": "8d9145b9",
   "metadata": {},
   "source": [
    "Attention mechanism was developed to overcome some of the limitations of `encoder-decoder` architecture. Attention mechanism also uses encoder-decoder architecture but with a slight variation. In the vanilla encoder-decoder model, encoder transforms the inputs to a hidden representation. The hidden representation is then passed to decoder model for prediction. One of the limitations of vanilla encoder-decoder model is that for long sequences, the encoded representation is not sufficient to encode all the information of the input sequence. So decoder outcomes become suboptimal. To overcome this challenge, in attention layer, the encoded representation is combined with hidden states of intermediate units to come up with a new hidden representation. As the new hidden representation takes intermediate hidden states into account, it represents the input more effectively. The new hidden representation is then passed to the decoder for prediction. There are basically two steps to attention:\n",
    "\n",
    "* Attention weight calculation, and\n",
    "* Linear combination of intermediate states with attention weights\n",
    "\n",
    "The way in which attention weights (scalars) are computed decides the name of the attention layer. There are infact many ways in which we can compute attention weights. But two of the most commons ones are `Additive attention` and `Dot-product attention` (also called multiplicative attention). Addtive attention computes attention weights in one way while dot-product attention computes it in a different way. After computation of attention weights, new hidden representation is computed and passed to the decoder layer. For more details readers are encouraged to read `Chapter 10` of `Dive into Deep Learning` book."
   ]
  },
  {
   "cell_type": "code",
   "execution_count": 1,
   "id": "54f3753f",
   "metadata": {},
   "outputs": [
    {
     "name": "stdout",
     "output_type": "stream",
     "text": [
      "Tensorflow version:  2.4.1\n",
      "Numpy version:  1.19.2\n",
      "Pandas version:  1.2.4\n",
      "Scikit-learn version:  0.24.1\n"
     ]
    }
   ],
   "source": [
    "import tensorflow as tf\n",
    "import pandas as pd\n",
    "import numpy as np\n",
    "import sklearn\n",
    "import matplotlib.pyplot as plt\n",
    "from sklearn.preprocessing import StandardScaler, MinMaxScaler\n",
    "from sklearn.metrics import mean_squared_error, mean_absolute_error\n",
    "\n",
    "print(\"Tensorflow version: \", tf.__version__)\n",
    "print(\"Numpy version: \", np.__version__)\n",
    "print(\"Pandas version: \", pd.__version__)\n",
    "print(\"Scikit-learn version: \", sklearn.__version__)"
   ]
  },
  {
   "cell_type": "markdown",
   "id": "a735b172",
   "metadata": {},
   "source": [
    "## Data Preparation"
   ]
  },
  {
   "cell_type": "markdown",
   "id": "059f5dac",
   "metadata": {},
   "source": [
    "Before using our model, we will first process the data. For data preprocessing we will be using three functions as defined below. Without any prior description these functions may seem weird. But these functions are not that difficult to use. A detailed description of the dataset used and preprocessing steps (along with the functions defined below) is given in [this notebook](https://github.com/biswajitsahoo1111/rul_codes_open/blob/master/notebooks/cmapss_notebooks/CMAPSS_data_description_and_preprocessing.ipynb). Readers are strongly encouraged to go through that notebook first to get an intuitive understanding of how the preprocessing steps work. "
   ]
  },
  {
   "cell_type": "code",
   "execution_count": 2,
   "id": "e7b81a0d",
   "metadata": {},
   "outputs": [],
   "source": [
    "def process_targets(data_length, early_rul = None):\n",
    "    \"\"\" \n",
    "    Takes datalength and earlyrul as input and \n",
    "    creates target rul.\n",
    "    \"\"\"\n",
    "    if early_rul == None:\n",
    "        return np.arange(data_length-1, -1, -1)\n",
    "    else:\n",
    "        early_rul_duration = data_length - early_rul\n",
    "        if early_rul_duration <= 0:\n",
    "            return np.arange(data_length-1, -1, -1)\n",
    "        else:\n",
    "            return np.append(early_rul*np.ones(shape = (early_rul_duration,)), np.arange(early_rul-1, -1, -1))"
   ]
  },
  {
   "cell_type": "code",
   "execution_count": 3,
   "id": "8fea2afd",
   "metadata": {},
   "outputs": [],
   "source": [
    "def process_input_data_with_targets(input_data, target_data = None, window_length = 1, shift = 1):\n",
    "    \"\"\"Depending on values of window_length and shift, this function generates batchs of data and targets \n",
    "    from input_data and target_data.\n",
    "    \n",
    "    Number of batches = np.floor((len(input_data) - window_length)/shift) + 1\n",
    "    \n",
    "    **We don't check input dimensions uisng exception handling. So readers should be careful while using these\n",
    "    functions. If input data are not of desired dimension, either error occurs or something undesirable is \n",
    "    produced as output.**\n",
    "    \n",
    "    Arguments:\n",
    "        input_data: input data to function (Must be 2 dimensional)\n",
    "        target_data: input rul values (Must be 1D array)s\n",
    "        window_length: window length of data\n",
    "        shift: Distance by which the window moves for next batch. This is closely related to overlap\n",
    "               between data. For example, if window length is 30 and shift is 1, there is an overlap of \n",
    "               29 data points between two consecutive batches.\n",
    "        \n",
    "    \"\"\"\n",
    "    num_batches = np.int(np.floor((len(input_data) - window_length)/shift)) + 1\n",
    "    num_features = input_data.shape[1]\n",
    "    output_data = np.repeat(np.nan, repeats = num_batches * window_length * num_features).reshape(num_batches, window_length,\n",
    "                                                                                                  num_features)\n",
    "    if target_data is None:\n",
    "        for batch in range(num_batches):\n",
    "            output_data[batch,:,:] = input_data[(0+shift*batch):(0+shift*batch+window_length),:]\n",
    "        return output_data\n",
    "    else:\n",
    "        output_targets = np.repeat(np.nan, repeats = num_batches)\n",
    "        for batch in range(num_batches):\n",
    "            output_data[batch,:,:] = input_data[(0+shift*batch):(0+shift*batch+window_length),:]\n",
    "            output_targets[batch] = target_data[(shift*batch + (window_length-1))]\n",
    "        return output_data, output_targets"
   ]
  },
  {
   "cell_type": "code",
   "execution_count": 4,
   "id": "16ff1b7f",
   "metadata": {},
   "outputs": [],
   "source": [
    "def process_test_data(test_data_for_an_engine, window_length, shift, num_test_windows = 1):\n",
    "    \"\"\" This function takes test data for an engine as first input. The next two inputs\n",
    "    window_length and shift are same as other functins. \n",
    "    \n",
    "    Finally it takes num_test_windows as the last input. num_test_windows sets how many examplles we\n",
    "    want from test data (from last). By default it extracts only the last example.\n",
    "    \n",
    "    The function return last examples and number of last examples (a scaler) as output. \n",
    "    We need the second output later. If we are extracting more than 1 last examples, we have to \n",
    "    average their prediction results. The second scaler halps us do just that.\n",
    "    \"\"\"\n",
    "    max_num_test_batches = np.int(np.floor((len(test_data_for_an_engine) - window_length)/shift)) + 1\n",
    "    if max_num_test_batches < num_test_windows:\n",
    "        required_len = (max_num_test_batches -1)* shift + window_length\n",
    "        batched_test_data_for_an_engine = process_input_data_with_targets(test_data_for_an_engine[-required_len:, :],\n",
    "                                                                          target_data = None,\n",
    "                                                                          window_length = window_length, shift = shift)\n",
    "        return batched_test_data_for_an_engine, max_num_test_batches\n",
    "    else:\n",
    "        required_len = (num_test_windows - 1) * shift + window_length\n",
    "        batched_test_data_for_an_engine = process_input_data_with_targets(test_data_for_an_engine[-required_len:, :],\n",
    "                                                                          target_data = None,\n",
    "                                                                          window_length = window_length, shift = shift)\n",
    "        return batched_test_data_for_an_engine, num_test_windows"
   ]
  },
  {
   "cell_type": "code",
   "execution_count": 5,
   "id": "dd6f07d9",
   "metadata": {},
   "outputs": [
    {
     "name": "stdout",
     "output_type": "stream",
     "text": [
      "Processed trianing data shape:  (17731, 30, 14)\n",
      "Processed training ruls shape:  (17731,)\n",
      "Processed test data shape:  (497, 30, 14)\n",
      "True RUL shape:  (100,)\n"
     ]
    }
   ],
   "source": [
    "train_data = pd.read_csv(\"/home/biswajit/data/cmapss_data/train_FD001.txt\", sep= \"\\s+\", header = None)\n",
    "test_data = pd.read_csv(\"/home/biswajit/data/cmapss_data/test_FD001.txt\", sep = \"\\s+\", header = None)\n",
    "true_rul = pd.read_csv(\"/home/biswajit/data/cmapss_data/RUL_FD001.txt\", sep = '\\s+', header = None)\n",
    "\n",
    "window_length = 30\n",
    "shift = 1\n",
    "early_rul = 125          \n",
    "processed_train_data = []\n",
    "processed_train_targets = []\n",
    "\n",
    "# How many test windows to take for each engine. If set to 1 (this is the default), only last window of test data for \n",
    "# each engine is taken. If set to a different number, that many windows from last are taken. \n",
    "# Final output is the average output of all windows.\n",
    "num_test_windows = 5     \n",
    "processed_test_data = []\n",
    "num_test_windows_list = []\n",
    "\n",
    "columns_to_be_dropped = [0,1,2,3,4,5,9,10,14,20,22,23]\n",
    "\n",
    "train_data_first_column = train_data[0]\n",
    "test_data_first_column = test_data[0]\n",
    "\n",
    "# Scale data for all engines\n",
    "scaler = StandardScaler()\n",
    "train_data = scaler.fit_transform(train_data.drop(columns = columns_to_be_dropped))\n",
    "test_data = scaler.transform(test_data.drop(columns = columns_to_be_dropped))\n",
    "\n",
    "train_data = pd.DataFrame(data = np.c_[train_data_first_column, train_data])\n",
    "test_data = pd.DataFrame(data = np.c_[test_data_first_column, test_data])\n",
    "\n",
    "num_train_machines = len(train_data[0].unique())\n",
    "num_test_machines = len(test_data[0].unique())\n",
    "\n",
    "# Process training and test data sepeartely as number of engines in training and test set may be different.\n",
    "# As we are doing scaling for full dataset, we are not bothered by different number of engines in training and test set.\n",
    "\n",
    "# Process trianing data\n",
    "for i in np.arange(1, num_train_machines + 1):\n",
    "    temp_train_data = train_data[train_data[0] == i].drop(columns = [0]).values\n",
    "    \n",
    "    # Verify if data of given window length can be extracted from training data\n",
    "    if (len(temp_train_data) < window_length):\n",
    "        print(\"Train engine {} doesn't have enough data for window_length of {}\".format(i, window_length))\n",
    "        raise AssertionError(\"Window length is larger than number of data points for some engines. \"\n",
    "                             \"Try decreasing window length.\")\n",
    "        \n",
    "    temp_train_targets = process_targets(data_length = temp_train_data.shape[0], early_rul = early_rul)\n",
    "    data_for_a_machine, targets_for_a_machine = process_input_data_with_targets(temp_train_data, temp_train_targets, \n",
    "                                                                                window_length = window_length, shift = shift)\n",
    "    \n",
    "    processed_train_data.append(data_for_a_machine)\n",
    "    processed_train_targets.append(targets_for_a_machine)\n",
    "\n",
    "processed_train_data = np.concatenate(processed_train_data)\n",
    "processed_train_targets = np.concatenate(processed_train_targets)\n",
    "\n",
    "# Process test data\n",
    "for i in np.arange(1, num_test_machines + 1):\n",
    "    temp_test_data = test_data[test_data[0] == i].drop(columns = [0]).values\n",
    "    \n",
    "    # Verify if data of given window length can be extracted from test data\n",
    "    if (len(temp_test_data) < window_length):\n",
    "        print(\"Test engine {} doesn't have enough data for window_length of {}\".format(i, window_length))\n",
    "        raise AssertionError(\"Window length is larger than number of data points for some engines. \"\n",
    "                             \"Try decreasing window length.\")\n",
    "    \n",
    "    # Prepare test data\n",
    "    test_data_for_an_engine, num_windows = process_test_data(temp_test_data, window_length = window_length, shift = shift,\n",
    "                                                             num_test_windows = num_test_windows)\n",
    "    \n",
    "    processed_test_data.append(test_data_for_an_engine)\n",
    "    num_test_windows_list.append(num_windows)\n",
    "\n",
    "processed_test_data = np.concatenate(processed_test_data)\n",
    "true_rul = true_rul[0].values\n",
    "\n",
    "# Shuffle training data\n",
    "index = np.random.permutation(len(processed_train_targets))\n",
    "processed_train_data, processed_train_targets = processed_train_data[index], processed_train_targets[index]\n",
    "\n",
    "print(\"Processed trianing data shape: \", processed_train_data.shape)\n",
    "print(\"Processed training ruls shape: \", processed_train_targets.shape)\n",
    "print(\"Processed test data shape: \", processed_test_data.shape)\n",
    "print(\"True RUL shape: \", true_rul.shape)"
   ]
  },
  {
   "cell_type": "markdown",
   "id": "db2950f3",
   "metadata": {},
   "source": [
    "Targets vary from 0 to 192 (for example) for the engine that has a service life of 193 cycles. But in deep learning it's usually a good idea to keep numbers within a range. Below we scale targets to a range of 0 to 1."
   ]
  },
  {
   "cell_type": "code",
   "execution_count": 6,
   "id": "51b845b6",
   "metadata": {},
   "outputs": [],
   "source": [
    "target_scaler = MinMaxScaler(feature_range = (0, 1))\n",
    "processed_train_targets = target_scaler.fit_transform(processed_train_targets.reshape(-1, 1)).reshape(-1)"
   ]
  },
  {
   "cell_type": "code",
   "execution_count": 7,
   "id": "a6c9e275",
   "metadata": {},
   "outputs": [],
   "source": [
    "train_dataset = tf.data.Dataset.from_tensor_slices((processed_train_data, processed_train_targets)).batch(128).prefetch(tf.data.AUTOTUNE)\n",
    "test_dataset = tf.data.Dataset.from_tensor_slices((processed_test_data)).batch(128).prefetch(tf.data.AUTOTUNE)"
   ]
  },
  {
   "cell_type": "markdown",
   "id": "ba9e64eb",
   "metadata": {},
   "source": [
    "## Model creation\n",
    "\n",
    "We will first create an encoder, then the attention mechanism (to compute attention weights), then the decoder, and finally combine the encoder and decoder into a single model."
   ]
  },
  {
   "cell_type": "markdown",
   "id": "82ae7309",
   "metadata": {},
   "source": [
    "###  Encoder"
   ]
  },
  {
   "cell_type": "code",
   "execution_count": 8,
   "id": "430aeb3b",
   "metadata": {},
   "outputs": [],
   "source": [
    "class Seq2SeqEncoder(tf.keras.layers.Layer):\n",
    "    \"\"\"The RNN encoder for sequence to sequence learning.\"\"\"\n",
    "    def __init__(self, num_hiddens, num_layers, dropout = 0, **kwargs): \n",
    "        super().__init__(*kwargs)\n",
    "        self.rnn = tf.keras.layers.RNN(tf.keras.layers.StackedRNNCells([tf.keras.layers.GRUCell(num_hiddens, dropout = dropout)\n",
    "                                                                        for _ in range(num_layers)]),\n",
    "                                       return_sequences = True, return_state = True)\n",
    "    \n",
    "    def call(self, X, *args, **kwargs):\n",
    "        # The input `X` shape: (`batch_size`, `num_steps`, `num_features`)\n",
    "        output = self.rnn(X, **kwargs) # Shape of output: (batch_size, num_steps, num_hiddens)\n",
    "        state = output[1:]                        # Shape of state: (batch_size, num_hiddens)\n",
    "        return (output[0], state)"
   ]
  },
  {
   "cell_type": "markdown",
   "id": "92434a5b",
   "metadata": {},
   "source": [
    "### Additive attention\n",
    "Along with computing attention weights, we will also compute the linear combination in this layer."
   ]
  },
  {
   "cell_type": "code",
   "execution_count": 9,
   "id": "64d02879",
   "metadata": {},
   "outputs": [],
   "source": [
    "class AdditiveAttentionForSeq(tf.keras.layers.Layer):\n",
    "    def __init__(self, attention_size, **kwargs):\n",
    "        super().__init__(**kwargs)\n",
    "        self.attention = tf.keras.layers.Dense(attention_size)\n",
    "        \n",
    "    def call(self, state, encoder_outputs):\n",
    "        # Shape of encocder_outputs: (batch_size, num_steps, hidden_dims)\n",
    "        # Shape of state: (batch_size, hidden_dims)\n",
    "        seq_len = encoder_outputs.shape[1]\n",
    "        # Hidden states of stacked GRU are first averaged before computing attention weights as done below\n",
    "        averaged_state = tf.reduce_mean(tf.stack(state, axis = 1), axis = 1)\n",
    "        state_rep = tf.repeat(tf.expand_dims(averaged_state, axis = 1), repeats = seq_len, axis = 1)\n",
    "        concat = tf.concat((state_rep, encoder_outputs), axis = -1)\n",
    "        scores = tf.nn.tanh(self.attention(concat))  # Shape of score: (batch_size, num_steps, attention_size)\n",
    "        # Shape of attention_weights: (batch_size, num_steps)\n",
    "        attention_weights = tf.nn.softmax(tf.reduce_sum(scores, axis = -1), axis = -1) \n",
    "        return tf.matmul(tf.expand_dims(attention_weights, axis = 1), encoder_outputs)"
   ]
  },
  {
   "cell_type": "markdown",
   "id": "f7feea9b",
   "metadata": {},
   "source": [
    "### Decoder"
   ]
  },
  {
   "cell_type": "code",
   "execution_count": 10,
   "id": "a2807d5d",
   "metadata": {},
   "outputs": [],
   "source": [
    "class Seq2SeqAttentionDecoder(tf.keras.layers.Layer):\n",
    "    def __init__(self, num_hiddens, num_layers, dropout = 0, **kwargs):\n",
    "        super().__init__(**kwargs)\n",
    "        self.rnn = tf.keras.layers.RNN(tf.keras.layers.StackedRNNCells([tf.keras.layers.GRUCell(num_hiddens, dropout = dropout)\n",
    "                                                                        for _ in range(num_layers)]),\n",
    "                                       return_sequences = True, return_state = True)\n",
    "        self.attention = AdditiveAttentionForSeq(attention_size = 32)\n",
    "        self.dense = tf.keras.layers.Dense(1)\n",
    "        \n",
    "    def init_state(self, enc_outputs, *args):\n",
    "        outputs, hidden_state = enc_outputs\n",
    "        return (outputs, hidden_state)\n",
    "    \n",
    "    \n",
    "    def call(self, dec_input, state, **kwargs):\n",
    "        # Shape of dec_input: (batch_size, 1, num_features)\n",
    "        # Shape of `enc_outputs`: (`batch_size`, `num_steps`, `num_hiddens`).\n",
    "        # Shape of `hidden_state[0]`: (`num_layers`, `batch_size`, `num_hiddens`)\n",
    "        enc_outputs, enc_hidden_state = state\n",
    "        # shape of context: (batch_size, 1, hidden_dims)\n",
    "        context = self.attention(enc_hidden_state, enc_outputs)\n",
    "        rnn_input = tf.concat((dec_input, context), axis = -1) # Shape of rnn_input: (batch_size, 1, (num_features + hidden_dims))\n",
    "        rnn_output = self.rnn(rnn_input, enc_hidden_state, **kwargs)\n",
    "        # Shape of rnn_output[0]: (batch_size, 1, num_hiddens)\n",
    "        # Shape of rnn_output[1]: (num_layers, batch_size, num_hiddens)\n",
    "        output = self.dense(tf.squeeze(rnn_output[0], axis = 1)) # Shape of output: (batch_sizef, 1)\n",
    "        return output, rnn_output[1:]"
   ]
  },
  {
   "cell_type": "markdown",
   "id": "4c650317",
   "metadata": {},
   "source": [
    "### Combine the encoder and decoder"
   ]
  },
  {
   "cell_type": "code",
   "execution_count": 11,
   "id": "fa37d7ad",
   "metadata": {},
   "outputs": [],
   "source": [
    "class EncoderDecoder(tf.keras.Model):\n",
    "    \"\"\"The base class for the encoder-decoder architecture.\"\"\"\n",
    "    def __init__(self, encoder, decoder, **kwargs):\n",
    "        super(EncoderDecoder, self).__init__(**kwargs)\n",
    "        self.encoder = encoder\n",
    "        self.decoder = decoder\n",
    "\n",
    "    def call(self, enc_X, dec_X, *args, **kwargs):\n",
    "        enc_outputs = self.encoder(enc_X, *args, **kwargs)\n",
    "        dec_state = self.decoder.init_state(enc_outputs, *args)\n",
    "        return self.decoder(dec_X, dec_state, **kwargs)"
   ]
  },
  {
   "cell_type": "code",
   "execution_count": 12,
   "id": "a440a4ca",
   "metadata": {},
   "outputs": [],
   "source": [
    "num_hiddens = 64\n",
    "num_layers = 2\n",
    "encoder = Seq2SeqEncoder(num_hiddens = num_hiddens, num_layers = num_layers)\n",
    "decoder = Seq2SeqAttentionDecoder(num_hiddens = num_hiddens, num_layers = num_layers)"
   ]
  },
  {
   "cell_type": "markdown",
   "id": "7318b7b9",
   "metadata": {},
   "source": [
    "### Combined model"
   ]
  },
  {
   "cell_type": "code",
   "execution_count": 13,
   "id": "6e55cbbf",
   "metadata": {},
   "outputs": [],
   "source": [
    "net = EncoderDecoder(encoder, decoder)"
   ]
  },
  {
   "cell_type": "markdown",
   "id": "639d3322",
   "metadata": {},
   "source": [
    "## Training"
   ]
  },
  {
   "cell_type": "code",
   "execution_count": 14,
   "id": "8a80dea2",
   "metadata": {},
   "outputs": [],
   "source": [
    "def train_seq2seq(net, data_iter, lr, num_epochs):\n",
    "    optimizer = tf.keras.optimizers.Adam(learning_rate=lr)\n",
    "    loss_object = tf.keras.losses.MeanSquaredError()\n",
    "    for epoch in range(num_epochs):\n",
    "        for batch in data_iter:\n",
    "            X, Y = [x for x in batch]\n",
    "            dec_input = X[:, -1, tf.newaxis]  # Only the last step of each input\n",
    "            with tf.GradientTape() as tape:\n",
    "                Y_hat, _ = net(X, dec_input, training = True)\n",
    "                l = loss_object(Y, Y_hat)\n",
    "            gradients = tape.gradient(l, net.trainable_variables)\n",
    "            optimizer.apply_gradients(zip(gradients, net.trainable_variables))\n",
    "        print(f'epoch {epoch + 1}, loss {l}')"
   ]
  },
  {
   "cell_type": "code",
   "execution_count": 15,
   "id": "17a8bb04",
   "metadata": {},
   "outputs": [
    {
     "name": "stdout",
     "output_type": "stream",
     "text": [
      "epoch 1, loss 0.014382034540176392\n",
      "epoch 2, loss 0.012341378256678581\n",
      "epoch 3, loss 0.011416086927056313\n",
      "epoch 4, loss 0.010646440088748932\n",
      "epoch 5, loss 0.009865926578640938\n",
      "epoch 6, loss 0.009338202886283398\n",
      "epoch 7, loss 0.00901525467634201\n",
      "epoch 8, loss 0.008069871924817562\n",
      "epoch 9, loss 0.007081895601004362\n",
      "epoch 10, loss 0.006168439984321594\n",
      "epoch 11, loss 0.0053857481107115746\n",
      "epoch 12, loss 0.004790552891790867\n",
      "epoch 13, loss 0.0041692377999424934\n",
      "epoch 14, loss 0.003571300068870187\n",
      "epoch 15, loss 0.0031998876947909594\n"
     ]
    }
   ],
   "source": [
    "train_seq2seq(net, train_dataset, 0.001, 15)"
   ]
  },
  {
   "cell_type": "markdown",
   "id": "e24a77c9",
   "metadata": {},
   "source": [
    "## Prediction"
   ]
  },
  {
   "cell_type": "code",
   "execution_count": 16,
   "id": "84b6915c",
   "metadata": {},
   "outputs": [],
   "source": [
    "def predict_seq2seq(net, test_data_iter):\n",
    "    final_preds = []\n",
    "    for batch in test_data_iter:\n",
    "        enc_outputs = net.encoder(batch, training = False)\n",
    "        dec_state = net.decoder.init_state(enc_outputs)\n",
    "        dec_X = batch[:, -1, tf.newaxis]\n",
    "        Y_pred, _ = net.decoder(dec_X, dec_state, training = False)\n",
    "        final_preds.append(Y_pred.numpy())\n",
    "    return tf.squeeze(tf.concat(final_preds, axis = 0).numpy()).numpy()"
   ]
  },
  {
   "cell_type": "code",
   "execution_count": 17,
   "id": "9c8849ca",
   "metadata": {},
   "outputs": [],
   "source": [
    "rul_pred_unscaled = predict_seq2seq(net, test_dataset)"
   ]
  },
  {
   "cell_type": "code",
   "execution_count": 18,
   "id": "e246f78c",
   "metadata": {},
   "outputs": [],
   "source": [
    "rul_pred = target_scaler.inverse_transform(rul_pred_unscaled.reshape(-1, 1)).reshape(-1)"
   ]
  },
  {
   "cell_type": "markdown",
   "id": "61483489",
   "metadata": {},
   "source": [
    "### Computing RMSE and MAE using last 5 examples"
   ]
  },
  {
   "cell_type": "code",
   "execution_count": 19,
   "id": "60709ab4",
   "metadata": {},
   "outputs": [
    {
     "name": "stdout",
     "output_type": "stream",
     "text": [
      "RMSE:  15.363016949224837\n",
      "MAE:  11.81227635097504\n"
     ]
    }
   ],
   "source": [
    "preds_for_each_engine = np.split(rul_pred, np.cumsum(num_test_windows_list)[:-1])\n",
    "mean_pred_for_each_engine = [np.average(ruls_for_each_engine, weights = np.repeat(1/num_windows, num_windows)) \n",
    "                             for ruls_for_each_engine, num_windows in zip(preds_for_each_engine, num_test_windows_list)]\n",
    "RMSE = np.sqrt(mean_squared_error(true_rul, mean_pred_for_each_engine))\n",
    "MAE = mean_absolute_error(true_rul, mean_pred_for_each_engine)\n",
    "print(\"RMSE: \", RMSE)\n",
    "print(\"MAE: \", MAE)"
   ]
  },
  {
   "cell_type": "markdown",
   "id": "a97e12c4",
   "metadata": {},
   "source": [
    "### Computing RMSE and MAE using only the last example"
   ]
  },
  {
   "cell_type": "code",
   "execution_count": 20,
   "id": "5733647c",
   "metadata": {},
   "outputs": [
    {
     "name": "stdout",
     "output_type": "stream",
     "text": [
      "RMSE (Taking only last examples):  14.210121708811478\n",
      "MAE (Taking only last example):  10.763729338645936\n"
     ]
    }
   ],
   "source": [
    "indices_of_last_examples = np.cumsum(num_test_windows_list) - 1\n",
    "preds_for_last_example = np.concatenate(preds_for_each_engine)[indices_of_last_examples]\n",
    "\n",
    "RMSE_new = np.sqrt(mean_squared_error(true_rul, preds_for_last_example))\n",
    "MAE_new = mean_absolute_error(true_rul, preds_for_last_example)\n",
    "print(\"RMSE (Taking only last examples): \", RMSE_new)\n",
    "print(\"MAE (Taking only last example): \", MAE_new)"
   ]
  },
  {
   "cell_type": "markdown",
   "id": "e1a98e62",
   "metadata": {},
   "source": [
    "### Computing S-score"
   ]
  },
  {
   "cell_type": "code",
   "execution_count": 21,
   "id": "9e912eac",
   "metadata": {},
   "outputs": [],
   "source": [
    "def compute_s_score(rul_true, rul_pred):\n",
    "    \"\"\"\n",
    "    Both rul_true and rul_pred should be 1D numpy arrays.\n",
    "    \"\"\"\n",
    "    diff = rul_pred - rul_true\n",
    "    return np.sum(np.where(diff < 0, np.exp(-diff/13)-1, np.exp(diff/10)-1))"
   ]
  },
  {
   "cell_type": "code",
   "execution_count": 22,
   "id": "2bfb4d89",
   "metadata": {},
   "outputs": [
    {
     "name": "stdout",
     "output_type": "stream",
     "text": [
      "S-score:  299.6308657325563\n"
     ]
    }
   ],
   "source": [
    "s_score = compute_s_score(true_rul, preds_for_last_example)\n",
    "print(\"S-score: \", s_score)"
   ]
  },
  {
   "cell_type": "code",
   "execution_count": 23,
   "id": "53a26f90",
   "metadata": {},
   "outputs": [
    {
     "data": {
      "image/png": "[encoded data removed]",
      "text/plain": [
       "<Figure size 432x288 with 1 Axes>"
      ]
     },
     "metadata": {
      "needs_background": "light"
     },
     "output_type": "display_data"
    }
   ],
   "source": [
    "plt.plot(true_rul, label = \"True RUL\", color = \"red\")\n",
    "plt.plot(preds_for_last_example, label = \"Pred RUL\", color = \"blue\")\n",
    "plt.legend()\n",
    "plt.show()"
   ]
  },
  {
   "cell_type": "code",
   "execution_count": 24,
   "id": "9dc1aa60",
   "metadata": {},
   "outputs": [],
   "source": [
    "net.save_weights(\"./saved_weights/FD001/FD001_early_rul_125_GRU_rmse_14_21\")"
   ]
  },
  {
   "cell_type": "markdown",
   "id": "46068bc2",
   "metadata": {},
   "source": [
    "## How to reproduce our results?\n",
    "\n",
    "It is very likely that after running this notebook, readers may get slightly different (occasionally very differnt) results than what we have obtained here. This happens because many deep learning operations are inherently non-deterministic in nature. However, exact reproducibility can be achieved if weights of the trained model are shared. To allow readers to reproduce our results, we have shared the trained model weights [here](https://github.com/biswajitsahoo1111/rul_codes_open/blob/master/notebooks/cmapss_notebooks/attention_based_RUL/saved_weights). Steps to use shared model weights is given in [this notebook](https://github.com/biswajitsahoo1111/rul_codes_open/blob/master/notebooks/cmapss_notebooks/attention_based_RUL/Reproduce_results_of_FD001_early_rul_125_GRU.ipynb). By running [this notebook](https://github.com/biswajitsahoo1111/rul_codes_open/blob/master/notebooks/cmapss_notebooks/attention_based_RUL/Reproduce_results_of_FD001_early_rul_125_GRU.ipynb), results will get the exact same results that we have obtained. \n",
    "\n",
    "Interested readers who wish to know about other methods of RUL prediction can visit my [project page](https://biswajitsahoo1111.github.io/rul_codes_open/)."
   ]
  }
 ],
 "metadata": {
  "kernelspec": {
   "display_name": "tf_241_gpu",
   "language": "python",
   "name": "tf_241_gpu"
  },
  "language_info": {
   "codemirror_mode": {
    "name": "ipython",
    "version": 3
   },
   "file_extension": ".py",
   "mimetype": "text/x-python",
   "name": "python",
   "nbconvert_exporter": "python",
   "pygments_lexer": "ipython3",
   "version": "3.8.8"
  }
 },
 "nbformat": 4,
 "nbformat_minor": 5
}
